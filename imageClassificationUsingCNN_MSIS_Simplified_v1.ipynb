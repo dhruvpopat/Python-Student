{
 "cells": [
  {
   "cell_type": "markdown",
   "metadata": {
    "colab_type": "text",
    "id": "jYysdyb-CaWM"
   },
   "source": [
    "# Train your first neural network: Image classification for retail products\n",
    "\n",
    "We will implement a model to classify the images of retail products (predict and label the images in 10 classes such as dress, coat, or shirt)."
   ]
  },
  {
   "cell_type": "markdown",
   "metadata": {
    "colab_type": "text",
    "id": "FbVhjPpzn6BM"
   },
   "source": [
    "Import the necessary libraries and print the version of TensorFlow API:"
   ]
  },
  {
   "cell_type": "code",
   "execution_count": 1,
   "metadata": {
    "colab": {
     "base_uri": "https://localhost:8080/",
     "height": 34
    },
    "colab_type": "code",
    "executionInfo": {
     "elapsed": 1624,
     "status": "ok",
     "timestamp": 1588217909827,
     "user": {
      "displayName": "Gorkem Turgut OZER",
      "photoUrl": "https://lh3.googleusercontent.com/a-/AOh14Gjp-j5tE4ecnmZuj-jF_J5o_tmjGWvUbyP-I-SrwA=s64",
      "userId": "15029595800829354156"
     },
     "user_tz": 240
    },
    "id": "dzLKpmZICaWN",
    "outputId": "841c05dc-38eb-4b4c-ad71-2579c36d65ad"
   },
   "outputs": [
    {
     "name": "stdout",
     "output_type": "stream",
     "text": [
      "2.2.0-rc3\n"
     ]
    }
   ],
   "source": [
    "# TensorFlow and tf.keras\n",
    "import tensorflow as tf\n",
    "from tensorflow import keras\n",
    "\n",
    "# Helper libraries\n",
    "import numpy as np\n",
    "import matplotlib.pyplot as plt\n",
    "\n",
    "print(tf.__version__)"
   ]
  },
  {
   "cell_type": "code",
   "execution_count": 0,
   "metadata": {
    "colab": {},
    "colab_type": "code",
    "id": "WWiSZR8uZH9y"
   },
   "outputs": [],
   "source": []
  },
  {
   "cell_type": "markdown",
   "metadata": {
    "colab_type": "text",
    "id": "yR0EdgrLCaWR"
   },
   "source": [
    "## Import the Fashion MNIST dataset"
   ]
  },
  {
   "cell_type": "markdown",
   "metadata": {
    "colab_type": "text",
    "id": "DLdCchMdCaWQ"
   },
   "source": [
    "We will use the [Fashion MNIST](https://github.com/zalandoresearch/fashion-mnist) dataset which contains 70,000 grayscale images in 10 categories. We will use 60,000 images to train the network and 10,000 images to evaluate how accurately the network learned to classify images. The following are some examples of the images (each image is 28 x 28 pixels):\n",
    "\n",
    "<table>\n",
    "  <tr><td>\n",
    "    <img src=\"https://tensorflow.org/images/fashion-mnist-sprite.png\"\n",
    "         alt=\"Fashion MNIST sprite\"  width=\"600\">\n",
    "  </td></tr>\n",
    "  <tr><td align=\"center\">\n",
    "    <b>Figure 1.</b> <a href=\"https://github.com/zalandoresearch/fashion-mnist\">Fashion-MNIST samples</a> (by Zalando, MIT License).<br/>&nbsp;\n",
    "  </td></tr>\n",
    "</table>\n",
    "\n",
    "Import and load the data from TensorFow (the data is already split into test and training sets):"
   ]
  },
  {
   "cell_type": "code",
   "execution_count": 0,
   "metadata": {
    "colab": {},
    "colab_type": "code",
    "id": "7MqDQO0KCaWS"
   },
   "outputs": [],
   "source": [
    "fashion_mnist = keras.datasets.fashion_mnist\n",
    "\n",
    "(train_images, train_labels), (test_images, test_labels) = fashion_mnist.load_data()"
   ]
  },
  {
   "cell_type": "markdown",
   "metadata": {
    "colab_type": "text",
    "id": "t9FDsUlxCaWW"
   },
   "source": [
    "Like the case we discussed on Tuesday, the *images* are defined as pixel values ranging between 0 and 255 (each image with 28x28=784 of these values). These values correspond to a shade of gray:\n",
    "\n",
    "<table>\n",
    "  <tr><td>\n",
    "    <img src=\"http://what-when-how.com/wp-content/uploads/2012/07/tmp26dc25_thumb2.png\"\n",
    "         alt=\"Shades of grey\" width=\"400\">\n",
    "  </td></tr>\n",
    "  <tr><td align=\"center\">\n",
    "    <b>Figure 2.</b> 256 (not 50!) shades of grey.<br/>&nbsp;\n",
    "  </td></tr>\n",
    "</table>\n",
    "\n",
    "The *labels* are integers, ranging from 0 to 9. These correspond to the *class* of clothing the image represents:\n",
    "\n",
    "<table>\n",
    "  <tr>\n",
    "    <th>Label</th>\n",
    "    <th>Class</th> \n",
    "  </tr>\n",
    "  <tr>\n",
    "    <td>0</td>\n",
    "    <td>T-shirt/top</td> \n",
    "  </tr>\n",
    "  <tr>\n",
    "    <td>1</td>\n",
    "    <td>Trouser</td> \n",
    "  </tr>\n",
    "    <tr>\n",
    "    <td>2</td>\n",
    "    <td>Pullover</td> \n",
    "  </tr>\n",
    "    <tr>\n",
    "    <td>3</td>\n",
    "    <td>Dress</td> \n",
    "  </tr>\n",
    "    <tr>\n",
    "    <td>4</td>\n",
    "    <td>Coat</td> \n",
    "  </tr>\n",
    "    <tr>\n",
    "    <td>5</td>\n",
    "    <td>Sandal</td> \n",
    "  </tr>\n",
    "    <tr>\n",
    "    <td>6</td>\n",
    "    <td>Shirt</td> \n",
    "  </tr>\n",
    "    <tr>\n",
    "    <td>7</td>\n",
    "    <td>Sneaker</td> \n",
    "  </tr>\n",
    "    <tr>\n",
    "    <td>8</td>\n",
    "    <td>Bag</td> \n",
    "  </tr>\n",
    "    <tr>\n",
    "    <td>9</td>\n",
    "    <td>Ankle boot</td> \n",
    "  </tr>\n",
    "</table>\n",
    "\n",
    "Assign *class names* to the labels (we will use the class names later when plotting the images):"
   ]
  },
  {
   "cell_type": "code",
   "execution_count": 0,
   "metadata": {
    "colab": {},
    "colab_type": "code",
    "id": "IjnLH5S2CaWx"
   },
   "outputs": [],
   "source": [
    "class_names = ['T-shirt/top', 'Trouser', 'Pullover', 'Dress', 'Coat', \n",
    "               'Sandal', 'Shirt', 'Sneaker', 'Bag', 'Ankle boot']"
   ]
  },
  {
   "cell_type": "markdown",
   "metadata": {
    "colab_type": "text",
    "id": "Brm0b_KACaWX"
   },
   "source": [
    "## Explore the data\n",
    "\n",
    "Explore the format of the **training** dataset (60,000 images with each image is represented as 28 x 28 pixels):"
   ]
  },
  {
   "cell_type": "code",
   "execution_count": 4,
   "metadata": {
    "colab": {
     "base_uri": "https://localhost:8080/",
     "height": 34
    },
    "colab_type": "code",
    "executionInfo": {
     "elapsed": 2027,
     "status": "ok",
     "timestamp": 1588217910295,
     "user": {
      "displayName": "Gorkem Turgut OZER",
      "photoUrl": "https://lh3.googleusercontent.com/a-/AOh14Gjp-j5tE4ecnmZuj-jF_J5o_tmjGWvUbyP-I-SrwA=s64",
      "userId": "15029595800829354156"
     },
     "user_tz": 240
    },
    "id": "zW5k_xz1CaWX",
    "outputId": "a495be84-f9d8-4652-85a1-3c97117cdc2f"
   },
   "outputs": [
    {
     "data": {
      "text/plain": [
       "(60000, 28, 28)"
      ]
     },
     "execution_count": 4,
     "metadata": {
      "tags": []
     },
     "output_type": "execute_result"
    }
   ],
   "source": [
    "train_images.shape"
   ]
  },
  {
   "cell_type": "markdown",
   "metadata": {
    "colab_type": "text",
    "id": "YSlYxFuRCaWk"
   },
   "source": [
    "Explore the labels of the **training** dataset (each label is an integer between 0 and 9):"
   ]
  },
  {
   "cell_type": "code",
   "execution_count": 5,
   "metadata": {
    "colab": {
     "base_uri": "https://localhost:8080/",
     "height": 34
    },
    "colab_type": "code",
    "executionInfo": {
     "elapsed": 2016,
     "status": "ok",
     "timestamp": 1588217910295,
     "user": {
      "displayName": "Gorkem Turgut OZER",
      "photoUrl": "https://lh3.googleusercontent.com/a-/AOh14Gjp-j5tE4ecnmZuj-jF_J5o_tmjGWvUbyP-I-SrwA=s64",
      "userId": "15029595800829354156"
     },
     "user_tz": 240
    },
    "id": "XKnCTHz4CaWg",
    "outputId": "573c9382-b2c4-47bc-9095-fcc2c2cfda7f"
   },
   "outputs": [
    {
     "data": {
      "text/plain": [
       "array([9, 0, 0, ..., 3, 0, 5], dtype=uint8)"
      ]
     },
     "execution_count": 5,
     "metadata": {
      "tags": []
     },
     "output_type": "execute_result"
    }
   ],
   "source": [
    "train_labels"
   ]
  },
  {
   "cell_type": "markdown",
   "metadata": {
    "colab_type": "text",
    "id": "TMPI88iZpO2T"
   },
   "source": [
    "Explore the format of the **test** dataset (10,000 images with each image is represented as 28 x 28 pixels):"
   ]
  },
  {
   "cell_type": "code",
   "execution_count": 6,
   "metadata": {
    "colab": {
     "base_uri": "https://localhost:8080/",
     "height": 34
    },
    "colab_type": "code",
    "executionInfo": {
     "elapsed": 2003,
     "status": "ok",
     "timestamp": 1588217910296,
     "user": {
      "displayName": "Gorkem Turgut OZER",
      "photoUrl": "https://lh3.googleusercontent.com/a-/AOh14Gjp-j5tE4ecnmZuj-jF_J5o_tmjGWvUbyP-I-SrwA=s64",
      "userId": "15029595800829354156"
     },
     "user_tz": 240
    },
    "id": "2KFnYlcwCaWl",
    "outputId": "597405c7-7fba-4fe4-a686-be13fbf988f0"
   },
   "outputs": [
    {
     "data": {
      "text/plain": [
       "(10000, 28, 28)"
      ]
     },
     "execution_count": 6,
     "metadata": {
      "tags": []
     },
     "output_type": "execute_result"
    }
   ],
   "source": [
    "test_images.shape"
   ]
  },
  {
   "cell_type": "markdown",
   "metadata": {
    "colab_type": "text",
    "id": "rd0A0Iu0CaWq"
   },
   "source": [
    "Explore the labels of the **test** dataset (each label is an integer between 0 and 9):"
   ]
  },
  {
   "cell_type": "code",
   "execution_count": 7,
   "metadata": {
    "colab": {
     "base_uri": "https://localhost:8080/",
     "height": 34
    },
    "colab_type": "code",
    "executionInfo": {
     "elapsed": 1991,
     "status": "ok",
     "timestamp": 1588217910296,
     "user": {
      "displayName": "Gorkem Turgut OZER",
      "photoUrl": "https://lh3.googleusercontent.com/a-/AOh14Gjp-j5tE4ecnmZuj-jF_J5o_tmjGWvUbyP-I-SrwA=s64",
      "userId": "15029595800829354156"
     },
     "user_tz": 240
    },
    "id": "iJmPr5-ACaWn",
    "outputId": "e6cd481c-2d93-46b4-b239-e830e576b212"
   },
   "outputs": [
    {
     "data": {
      "text/plain": [
       "array([9, 2, 1, ..., 8, 1, 5], dtype=uint8)"
      ]
     },
     "execution_count": 7,
     "metadata": {
      "tags": []
     },
     "output_type": "execute_result"
    }
   ],
   "source": [
    "test_labels"
   ]
  },
  {
   "cell_type": "markdown",
   "metadata": {
    "colab_type": "text",
    "id": "ES6uQoLKCaWr"
   },
   "source": [
    "## Preprocess the data\n",
    "\n",
    "See how an image looks like (28 by 28 pixels, each pixel having a value between 0 and 255):"
   ]
  },
  {
   "cell_type": "code",
   "execution_count": 8,
   "metadata": {
    "colab": {
     "base_uri": "https://localhost:8080/",
     "height": 265
    },
    "colab_type": "code",
    "executionInfo": {
     "elapsed": 2142,
     "status": "ok",
     "timestamp": 1588217910459,
     "user": {
      "displayName": "Gorkem Turgut OZER",
      "photoUrl": "https://lh3.googleusercontent.com/a-/AOh14Gjp-j5tE4ecnmZuj-jF_J5o_tmjGWvUbyP-I-SrwA=s64",
      "userId": "15029595800829354156"
     },
     "user_tz": 240
    },
    "id": "m4VEw8Ud9Quh",
    "outputId": "17ff70bb-e6af-4e0a-de7c-f69889268305"
   },
   "outputs": [
    {
     "data": {
      "image/png": "[encoded data removed]",
      "text/plain": [
       "<Figure size 432x288 with 2 Axes>"
      ]
     },
     "metadata": {
      "needs_background": "light",
      "tags": []
     },
     "output_type": "display_data"
    }
   ],
   "source": [
    "plt.figure()\n",
    "plt.imshow(train_images[0])\n",
    "plt.colorbar()\n",
    "plt.grid(False)"
   ]
  },
  {
   "cell_type": "markdown",
   "metadata": {
    "colab_type": "text",
    "id": "Wz7l27Lz9S1P"
   },
   "source": [
    "**Normalize** the pixel values to a range of 0 to 1 for both the **training** and **test** datasets (this is how the neural network model expects the input):"
   ]
  },
  {
   "cell_type": "code",
   "execution_count": 0,
   "metadata": {
    "colab": {},
    "colab_type": "code",
    "id": "bW5WzIPlCaWv"
   },
   "outputs": [],
   "source": [
    "train_images = train_images / 255.0\n",
    "\n",
    "test_images = test_images / 255.0"
   ]
  },
  {
   "cell_type": "markdown",
   "metadata": {
    "colab_type": "text",
    "id": "ji1e-3ghBCuA"
   },
   "source": [
    "Confirm that the pixel values are now between 0 and 1:"
   ]
  },
  {
   "cell_type": "code",
   "execution_count": 10,
   "metadata": {
    "colab": {
     "base_uri": "https://localhost:8080/",
     "height": 269
    },
    "colab_type": "code",
    "executionInfo": {
     "elapsed": 2502,
     "status": "ok",
     "timestamp": 1588217910845,
     "user": {
      "displayName": "Gorkem Turgut OZER",
      "photoUrl": "https://lh3.googleusercontent.com/a-/AOh14Gjp-j5tE4ecnmZuj-jF_J5o_tmjGWvUbyP-I-SrwA=s64",
      "userId": "15029595800829354156"
     },
     "user_tz": 240
    },
    "id": "Womwp5CjA_2-",
    "outputId": "2b11ad74-a946-4651-de85-6e851de3537f"
   },
   "outputs": [
    {
     "data": {
      "image/png": "[encoded data removed]",
      "text/plain": [
       "<Figure size 432x288 with 2 Axes>"
      ]
     },
     "metadata": {
      "needs_background": "light",
      "tags": []
     },
     "output_type": "display_data"
    }
   ],
   "source": [
    "plt.figure()\n",
    "plt.imshow(train_images[0])\n",
    "plt.colorbar()\n",
    "plt.grid(False)"
   ]
  },
  {
   "cell_type": "markdown",
   "metadata": {
    "colab_type": "text",
    "id": "Ee638AlnCaWz"
   },
   "source": [
    "Display the first 25 images from the *training set* with the class name below each image and verify that the data looks good:"
   ]
  },
  {
   "cell_type": "code",
   "execution_count": 11,
   "metadata": {
    "colab": {
     "base_uri": "https://localhost:8080/",
     "height": 589
    },
    "colab_type": "code",
    "executionInfo": {
     "elapsed": 3476,
     "status": "ok",
     "timestamp": 1588217911831,
     "user": {
      "displayName": "Gorkem Turgut OZER",
      "photoUrl": "https://lh3.googleusercontent.com/a-/AOh14Gjp-j5tE4ecnmZuj-jF_J5o_tmjGWvUbyP-I-SrwA=s64",
      "userId": "15029595800829354156"
     },
     "user_tz": 240
    },
    "id": "oZTImqg_CaW1",
    "outputId": "8ba757fd-d071-453d-f537-1c4cd44fba29"
   },
   "outputs": [
    {
     "data": {
      "image/png": "[encoded data removed]",
      "text/plain": [
       "<Figure size 720x720 with 25 Axes>"
      ]
     },
     "metadata": {
      "tags": []
     },
     "output_type": "display_data"
    }
   ],
   "source": [
    "plt.figure(figsize=(10,10))\n",
    "for i in range(25):\n",
    "    plt.subplot(5,5,i+1)\n",
    "    plt.xticks([])\n",
    "    plt.yticks([])\n",
    "    plt.grid(False)\n",
    "    plt.imshow(train_images[i], cmap=plt.cm.binary)\n",
    "    plt.xlabel(class_names[train_labels[i]])"
   ]
  },
  {
   "cell_type": "markdown",
   "metadata": {
    "colab_type": "text",
    "id": "59veuiEZCaW4"
   },
   "source": [
    "## Build the model\n",
    "\n",
    "Building the neural network requires (1) setting up the layers of the model, then (2) compiling the model."
   ]
  },
  {
   "cell_type": "markdown",
   "metadata": {
    "colab_type": "text",
    "id": "Gxg1XGm0eOBy"
   },
   "source": [
    "### Setup the layers\n",
    "\n",
    "The basic building block of a neural network is the *layer*. Layers extract representations from the data. Create three layers:"
   ]
  },
  {
   "cell_type": "code",
   "execution_count": 12,
   "metadata": {
    "colab": {
     "base_uri": "https://localhost:8080/",
     "height": 257
    },
    "colab_type": "code",
    "executionInfo": {
     "elapsed": 4093,
     "status": "ok",
     "timestamp": 1588217912465,
     "user": {
      "displayName": "Gorkem Turgut OZER",
      "photoUrl": "https://lh3.googleusercontent.com/a-/AOh14Gjp-j5tE4ecnmZuj-jF_J5o_tmjGWvUbyP-I-SrwA=s64",
      "userId": "15029595800829354156"
     },
     "user_tz": 240
    },
    "id": "9ODch-OFCaW4",
    "outputId": "5ac3a4bf-1d7b-4d97-8b0f-260f789a3c7c"
   },
   "outputs": [
    {
     "name": "stdout",
     "output_type": "stream",
     "text": [
      "Model: \"sequential\"\n",
      "_________________________________________________________________\n",
      "Layer (type)                 Output Shape              Param #   \n",
      "=================================================================\n",
      "flatten (Flatten)            (None, 784)               0         \n",
      "_________________________________________________________________\n",
      "dense (Dense)                (None, 128)               100480    \n",
      "_________________________________________________________________\n",
      "dense_1 (Dense)              (None, 10)                1290      \n",
      "=================================================================\n",
      "Total params: 101,770\n",
      "Trainable params: 101,770\n",
      "Non-trainable params: 0\n",
      "_________________________________________________________________\n"
     ]
    }
   ],
   "source": [
    "model = keras.Sequential([\n",
    "    keras.layers.Flatten(input_shape=(28, 28)), # DO NOT CHANGE ANYTHING IN THIS LAYER\n",
    "    keras.layers.Dense(128, activation=tf.nn.relu),\n",
    "    keras.layers.Dense(10, activation=tf.nn.softmax) # DO NOT CHANGE ANYTHING IN THIS LAYER\n",
    "])\n",
    "\n",
    "model.summary()"
   ]
  },
  {
   "cell_type": "markdown",
   "metadata": {
    "colab_type": "text",
    "id": "gut8A_7rCaW6"
   },
   "source": [
    "\n",
    "### Compile the model\n",
    "\n",
    "Define the loss function, optimizer, and performance metric using the model's *compile* step:"
   ]
  },
  {
   "cell_type": "code",
   "execution_count": 0,
   "metadata": {
    "colab": {},
    "colab_type": "code",
    "id": "Lhan11blCaW7"
   },
   "outputs": [],
   "source": [
    "model.compile(optimizer = tf.keras.optimizers.Adam(),\n",
    "              loss = 'sparse_categorical_crossentropy',\n",
    "              metrics=['accuracy']) #The fraction of the images that are correctly classified."
   ]
  },
  {
   "cell_type": "markdown",
   "metadata": {
    "colab_type": "text",
    "id": "qKF6uW-BCaW-"
   },
   "source": [
    "## Train the model\n",
    "\n",
    "Train the model for 5 epochs using the images and their labels in the training set:"
   ]
  },
  {
   "cell_type": "code",
   "execution_count": 14,
   "metadata": {
    "colab": {
     "base_uri": "https://localhost:8080/",
     "height": 206
    },
    "colab_type": "code",
    "executionInfo": {
     "elapsed": 21085,
     "status": "ok",
     "timestamp": 1588217929478,
     "user": {
      "displayName": "Gorkem Turgut OZER",
      "photoUrl": "https://lh3.googleusercontent.com/a-/AOh14Gjp-j5tE4ecnmZuj-jF_J5o_tmjGWvUbyP-I-SrwA=s64",
      "userId": "15029595800829354156"
     },
     "user_tz": 240
    },
    "id": "xvwvpA64CaW_",
    "outputId": "d6004097-a3dd-47ee-ef33-43232c91a832"
   },
   "outputs": [
    {
     "name": "stdout",
     "output_type": "stream",
     "text": [
      "Epoch 1/5\n",
      "1875/1875 [==============================] - 3s 2ms/step - loss: 0.4986 - accuracy: 0.8252\n",
      "Epoch 2/5\n",
      "1875/1875 [==============================] - 3s 2ms/step - loss: 0.3773 - accuracy: 0.8633\n",
      "Epoch 3/5\n",
      "1875/1875 [==============================] - 3s 2ms/step - loss: 0.3362 - accuracy: 0.8771\n",
      "Epoch 4/5\n",
      "1875/1875 [==============================] - 3s 2ms/step - loss: 0.3123 - accuracy: 0.8865\n",
      "Epoch 5/5\n",
      "1875/1875 [==============================] - 3s 2ms/step - loss: 0.2943 - accuracy: 0.8915\n"
     ]
    },
    {
     "data": {
      "text/plain": [
       "<tensorflow.python.keras.callbacks.History at 0x7f80800a7400>"
      ]
     },
     "execution_count": 14,
     "metadata": {
      "tags": []
     },
     "output_type": "execute_result"
    }
   ],
   "source": [
    "model.fit(train_images, train_labels, epochs=5)"
   ]
  },
  {
   "cell_type": "markdown",
   "metadata": {
    "colab_type": "text",
    "id": "W3ZVOhugCaXA"
   },
   "source": [
    "As the model trains, the loss and accuracy metrics are displayed. This model reaches an accuracy of about 0.88 (or 88%) on the training data."
   ]
  },
  {
   "cell_type": "markdown",
   "metadata": {
    "colab_type": "text",
    "id": "oEw4bZgGCaXB"
   },
   "source": [
    "## Evaluate the model\n",
    "\n",
    "Evaluate the accuracy of the model by making predictions using the model in the test dataset:"
   ]
  },
  {
   "cell_type": "code",
   "execution_count": 15,
   "metadata": {
    "colab": {
     "base_uri": "https://localhost:8080/",
     "height": 51
    },
    "colab_type": "code",
    "executionInfo": {
     "elapsed": 21784,
     "status": "ok",
     "timestamp": 1588217930192,
     "user": {
      "displayName": "Gorkem Turgut OZER",
      "photoUrl": "https://lh3.googleusercontent.com/a-/AOh14Gjp-j5tE4ecnmZuj-jF_J5o_tmjGWvUbyP-I-SrwA=s64",
      "userId": "15029595800829354156"
     },
     "user_tz": 240
    },
    "id": "VflXLEeECaXC",
    "outputId": "ab5c73a4-8fce-4a0a-9270-29b2717667ff"
   },
   "outputs": [
    {
     "name": "stdout",
     "output_type": "stream",
     "text": [
      "313/313 [==============================] - 1s 2ms/step - loss: 0.3455 - accuracy: 0.8766\n",
      "Test accuracy: 0.8766000270843506\n"
     ]
    }
   ],
   "source": [
    "test_loss, test_acc = model.evaluate(test_images, test_labels)\n",
    "\n",
    "print('Test accuracy:', test_acc)"
   ]
  },
  {
   "cell_type": "markdown",
   "metadata": {
    "colab_type": "text",
    "id": "xsoS7CPDCaXH"
   },
   "source": [
    "## Make predictions\n",
    "\n",
    "Store the predictions for all images in the test dataset:"
   ]
  },
  {
   "cell_type": "code",
   "execution_count": 0,
   "metadata": {
    "colab": {},
    "colab_type": "code",
    "id": "Gl91RPhdCaXI"
   },
   "outputs": [],
   "source": [
    "predictions = model.predict(test_images)"
   ]
  },
  {
   "cell_type": "markdown",
   "metadata": {
    "colab_type": "text",
    "id": "x9Kk1voUCaXJ"
   },
   "source": [
    "Display the probabilities in the prediction of the first image:"
   ]
  },
  {
   "cell_type": "code",
   "execution_count": 17,
   "metadata": {
    "colab": {
     "base_uri": "https://localhost:8080/",
     "height": 68
    },
    "colab_type": "code",
    "executionInfo": {
     "elapsed": 22232,
     "status": "ok",
     "timestamp": 1588217930661,
     "user": {
      "displayName": "Gorkem Turgut OZER",
      "photoUrl": "https://lh3.googleusercontent.com/a-/AOh14Gjp-j5tE4ecnmZuj-jF_J5o_tmjGWvUbyP-I-SrwA=s64",
      "userId": "15029595800829354156"
     },
     "user_tz": 240
    },
    "id": "3DmJEUinCaXK",
    "outputId": "6beab81f-e6ed-4759-f799-923f5e06c9c8"
   },
   "outputs": [
    {
     "data": {
      "text/plain": [
       "array([5.1977599e-07, 7.2688579e-08, 3.6617241e-08, 4.8167351e-08,\n",
       "       2.4194432e-07, 7.2969017e-03, 1.6526610e-06, 3.8036443e-02,\n",
       "       1.0701417e-05, 9.5465338e-01], dtype=float32)"
      ]
     },
     "execution_count": 17,
     "metadata": {
      "tags": []
     },
     "output_type": "execute_result"
    }
   ],
   "source": [
    "predictions[0] #222 for a false prediction"
   ]
  },
  {
   "cell_type": "markdown",
   "metadata": {
    "colab_type": "text",
    "id": "-hw1hgeSCaXN"
   },
   "source": [
    "Display the label that is predicted with the highest probability:"
   ]
  },
  {
   "cell_type": "code",
   "execution_count": 18,
   "metadata": {
    "colab": {
     "base_uri": "https://localhost:8080/",
     "height": 34
    },
    "colab_type": "code",
    "executionInfo": {
     "elapsed": 22222,
     "status": "ok",
     "timestamp": 1588217930663,
     "user": {
      "displayName": "Gorkem Turgut OZER",
      "photoUrl": "https://lh3.googleusercontent.com/a-/AOh14Gjp-j5tE4ecnmZuj-jF_J5o_tmjGWvUbyP-I-SrwA=s64",
      "userId": "15029595800829354156"
     },
     "user_tz": 240
    },
    "id": "qsqenuPnCaXO",
    "outputId": "6f697dba-f24a-4cad-a2fc-0cf6938bfb85"
   },
   "outputs": [
    {
     "data": {
      "text/plain": [
       "9"
      ]
     },
     "execution_count": 18,
     "metadata": {
      "tags": []
     },
     "output_type": "execute_result"
    }
   ],
   "source": [
    "np.argmax(predictions[0])"
   ]
  },
  {
   "cell_type": "markdown",
   "metadata": {
    "colab_type": "text",
    "id": "E51yS7iCCaXO"
   },
   "source": [
    "Check the actual label of the first image:"
   ]
  },
  {
   "cell_type": "code",
   "execution_count": 19,
   "metadata": {
    "colab": {
     "base_uri": "https://localhost:8080/",
     "height": 34
    },
    "colab_type": "code",
    "executionInfo": {
     "elapsed": 22211,
     "status": "ok",
     "timestamp": 1588217930664,
     "user": {
      "displayName": "Gorkem Turgut OZER",
      "photoUrl": "https://lh3.googleusercontent.com/a-/AOh14Gjp-j5tE4ecnmZuj-jF_J5o_tmjGWvUbyP-I-SrwA=s64",
      "userId": "15029595800829354156"
     },
     "user_tz": 240
    },
    "id": "Sd7Pgsu6CaXP",
    "outputId": "647f77fb-ba4b-4a09-a72e-892c70c2bee4"
   },
   "outputs": [
    {
     "data": {
      "text/plain": [
       "9"
      ]
     },
     "execution_count": 19,
     "metadata": {
      "tags": []
     },
     "output_type": "execute_result"
    }
   ],
   "source": [
    "test_labels[0]"
   ]
  },
  {
   "cell_type": "markdown",
   "metadata": {
    "colab_type": "text",
    "id": "ygh2yYC972ne"
   },
   "source": [
    "Define two helper functions (we will use the functions later when plotting the results):"
   ]
  },
  {
   "cell_type": "code",
   "execution_count": 0,
   "metadata": {
    "colab": {},
    "colab_type": "code",
    "id": "DvYmmrpIy6Y1"
   },
   "outputs": [],
   "source": [
    "def plot_image(i, predictions_array, true_label, img):\n",
    "  predictions_array, true_label, img = predictions_array[i], true_label[i], img[i]\n",
    "  plt.grid(False)\n",
    "  plt.xticks([])\n",
    "  plt.yticks([])\n",
    "  \n",
    "  plt.imshow(img, cmap=plt.cm.binary)\n",
    "\n",
    "  predicted_label = np.argmax(predictions_array)\n",
    "  if predicted_label == true_label:\n",
    "    color = 'blue'\n",
    "  else:\n",
    "    color = 'red'\n",
    "  \n",
    "  plt.xlabel(\"{} {:2.0f}% ({})\".format(class_names[predicted_label],\n",
    "                                100*np.max(predictions_array),\n",
    "                                class_names[true_label]),\n",
    "                                color=color)\n",
    "\n",
    "def plot_value_array(i, predictions_array, true_label):\n",
    "  predictions_array, true_label = predictions_array[i], true_label[i]\n",
    "  plt.grid(False)\n",
    "  plt.xticks([])\n",
    "  plt.yticks([])\n",
    "  thisplot = plt.bar(range(10), predictions_array, color=\"#777777\")\n",
    "  plt.ylim([0, 1]) \n",
    "  predicted_label = np.argmax(predictions_array)\n",
    " \n",
    "  thisplot[predicted_label].set_color('red')\n",
    "  thisplot[true_label].set_color('blue')"
   ]
  },
  {
   "cell_type": "markdown",
   "metadata": {
    "colab_type": "text",
    "id": "d4Ov9OFDMmOD"
   },
   "source": [
    "Display the 1st image, its predicted label with the probability and its true label:"
   ]
  },
  {
   "cell_type": "code",
   "execution_count": 21,
   "metadata": {
    "colab": {
     "base_uri": "https://localhost:8080/",
     "height": 197
    },
    "colab_type": "code",
    "executionInfo": {
     "elapsed": 22169,
     "status": "ok",
     "timestamp": 1588217930667,
     "user": {
      "displayName": "Gorkem Turgut OZER",
      "photoUrl": "https://lh3.googleusercontent.com/a-/AOh14Gjp-j5tE4ecnmZuj-jF_J5o_tmjGWvUbyP-I-SrwA=s64",
      "userId": "15029595800829354156"
     },
     "user_tz": 240
    },
    "id": "HV5jw-5HwSmO",
    "outputId": "926953ab-9f24-4481-d20b-158ac2358a91"
   },
   "outputs": [
    {
     "data": {
      "image/png": "[encoded data removed]",
      "text/plain": [
       "<Figure size 432x216 with 1 Axes>"
      ]
     },
     "metadata": {
      "tags": []
     },
     "output_type": "display_data"
    }
   ],
   "source": [
    "i = 0\n",
    "plt.figure(figsize=(6,3))\n",
    "plt.subplot(1,2,1)\n",
    "plot_image(i, predictions, test_labels, test_images)\n",
    "#plt.subplot(1,2,2)\n",
    "#plot_value_array(i, predictions,  test_labels)"
   ]
  },
  {
   "cell_type": "markdown",
   "metadata": {
    "colab_type": "text",
    "id": "IhR4IT0j6nSQ"
   },
   "source": [
    "Display the plot of all predicted probabilities for the 1st image:"
   ]
  },
  {
   "cell_type": "code",
   "execution_count": 22,
   "metadata": {
    "colab": {
     "base_uri": "https://localhost:8080/",
     "height": 300
    },
    "colab_type": "code",
    "executionInfo": {
     "elapsed": 22326,
     "status": "ok",
     "timestamp": 1588217930842,
     "user": {
      "displayName": "Gorkem Turgut OZER",
      "photoUrl": "https://lh3.googleusercontent.com/a-/AOh14Gjp-j5tE4ecnmZuj-jF_J5o_tmjGWvUbyP-I-SrwA=s64",
      "userId": "15029595800829354156"
     },
     "user_tz": 240
    },
    "id": "8VAWuHqO5Q0Y",
    "outputId": "20961835-9e81-4a14-e2db-9f3fcd18332b"
   },
   "outputs": [
    {
     "data": {
      "image/png": "[encoded data removed]",
      "text/plain": [
       "<Figure size 432x288 with 1 Axes>"
      ]
     },
     "metadata": {
      "needs_background": "light",
      "tags": []
     },
     "output_type": "display_data"
    }
   ],
   "source": [
    "plot_value_array(0, model.predict(np.expand_dims(test_images[0],0)), test_labels)\n",
    "_ = plt.xticks(range(10), class_names, rotation=45)"
   ]
  },
  {
   "cell_type": "markdown",
   "metadata": {
    "colab_type": "text",
    "id": "D0pabHQKZ4yz"
   },
   "source": [
    "Display the 223rd image, its predicted label with the associated probability, and its true label:"
   ]
  },
  {
   "cell_type": "code",
   "execution_count": 23,
   "metadata": {
    "colab": {
     "base_uri": "https://localhost:8080/",
     "height": 197
    },
    "colab_type": "code",
    "executionInfo": {
     "elapsed": 22305,
     "status": "ok",
     "timestamp": 1588217930843,
     "user": {
      "displayName": "Gorkem Turgut OZER",
      "photoUrl": "https://lh3.googleusercontent.com/a-/AOh14Gjp-j5tE4ecnmZuj-jF_J5o_tmjGWvUbyP-I-SrwA=s64",
      "userId": "15029595800829354156"
     },
     "user_tz": 240
    },
    "id": "Ko-uzOufSCSe",
    "outputId": "649a57ed-56c9-4dfc-dd41-ea4c427ace52"
   },
   "outputs": [
    {
     "data": {
      "image/png": "[encoded data removed]",
      "text/plain": [
       "<Figure size 432x216 with 1 Axes>"
      ]
     },
     "metadata": {
      "tags": []
     },
     "output_type": "display_data"
    }
   ],
   "source": [
    "i = 222\n",
    "plt.figure(figsize=(6,3))\n",
    "plt.subplot(1,2,1)\n",
    "plot_image(i, predictions, test_labels, test_images)\n",
    "#plt.subplot(1,2,2)\n",
    "#plot_value_array(i, predictions,  test_labels)"
   ]
  },
  {
   "cell_type": "markdown",
   "metadata": {
    "colab_type": "text",
    "id": "hAcgQzko7Il7"
   },
   "source": [
    "Display the plot of all predicted probabilities for the 223rd image:"
   ]
  },
  {
   "cell_type": "code",
   "execution_count": 24,
   "metadata": {
    "colab": {
     "base_uri": "https://localhost:8080/",
     "height": 300
    },
    "colab_type": "code",
    "executionInfo": {
     "elapsed": 22455,
     "status": "ok",
     "timestamp": 1588217931005,
     "user": {
      "displayName": "Gorkem Turgut OZER",
      "photoUrl": "https://lh3.googleusercontent.com/a-/AOh14Gjp-j5tE4ecnmZuj-jF_J5o_tmjGWvUbyP-I-SrwA=s64",
      "userId": "15029595800829354156"
     },
     "user_tz": 240
    },
    "id": "mjoCDYtx6H0B",
    "outputId": "ea9f818e-ff33-4224-852a-45e3a66c0e4e"
   },
   "outputs": [
    {
     "data": {
      "image/png": "[encoded data removed]",
      "text/plain": [
       "<Figure size 432x288 with 1 Axes>"
      ]
     },
     "metadata": {
      "needs_background": "light",
      "tags": []
     },
     "output_type": "display_data"
    }
   ],
   "source": [
    "plot_value_array(0, model.predict(np.expand_dims(test_images[222],0)), test_labels)\n",
    "_ = plt.xticks(range(10), class_names, rotation=45)"
   ]
  },
  {
   "cell_type": "markdown",
   "metadata": {
    "colab_type": "text",
    "id": "kgdvGD52CaXR"
   },
   "source": [
    "Plot several images with their predictions (correct prediction labels are blue and incorrect ones are red):"
   ]
  },
  {
   "cell_type": "code",
   "execution_count": 25,
   "metadata": {
    "colab": {
     "base_uri": "https://localhost:8080/",
     "height": 697
    },
    "colab_type": "code",
    "executionInfo": {
     "elapsed": 24476,
     "status": "ok",
     "timestamp": 1588217933045,
     "user": {
      "displayName": "Gorkem Turgut OZER",
      "photoUrl": "https://lh3.googleusercontent.com/a-/AOh14Gjp-j5tE4ecnmZuj-jF_J5o_tmjGWvUbyP-I-SrwA=s64",
      "userId": "15029595800829354156"
     },
     "user_tz": 240
    },
    "id": "hQlnbqaw2Qu_",
    "outputId": "d32273d7-0475-4d53-ff9b-fd176777c320"
   },
   "outputs": [
    {
     "data": {
      "image/png": "[encoded data removed]",
      "text/plain": [
       "<Figure size 1152x864 with 48 Axes>"
      ]
     },
     "metadata": {
      "tags": []
     },
     "output_type": "display_data"
    }
   ],
   "source": [
    "# Plot the first X test images, their predicted label, and the true label\n",
    "# Color correct predictions in blue, incorrect predictions in red\n",
    "num_rows = 6\n",
    "num_cols = 4\n",
    "num_images = num_rows*num_cols\n",
    "plt.figure(figsize=(2*2*num_cols, 2*num_rows))\n",
    "for i in range(num_images):\n",
    "  plt.subplot(num_rows, 2*num_cols, 2*i+1)\n",
    "  plot_image(i, predictions, test_labels, test_images)\n",
    "  plt.subplot(num_rows, 2*num_cols, 2*i+2)\n",
    "  plot_value_array(i, predictions, test_labels)\n"
   ]
  },
  {
   "cell_type": "markdown",
   "metadata": {
    "colab_type": "text",
    "id": "KLptITnFBVx8"
   },
   "source": [
    "Let's remember the accuracy we achieved in this example:"
   ]
  },
  {
   "cell_type": "code",
   "execution_count": 26,
   "metadata": {
    "colab": {
     "base_uri": "https://localhost:8080/",
     "height": 51
    },
    "colab_type": "code",
    "executionInfo": {
     "elapsed": 24982,
     "status": "ok",
     "timestamp": 1588217933566,
     "user": {
      "displayName": "Gorkem Turgut OZER",
      "photoUrl": "https://lh3.googleusercontent.com/a-/AOh14Gjp-j5tE4ecnmZuj-jF_J5o_tmjGWvUbyP-I-SrwA=s64",
      "userId": "15029595800829354156"
     },
     "user_tz": 240
    },
    "id": "Yiupdn-nztM1",
    "outputId": "68848fbb-9d64-45bb-f165-48f62a74f617"
   },
   "outputs": [
    {
     "name": "stdout",
     "output_type": "stream",
     "text": [
      "313/313 [==============================] - 1s 2ms/step - loss: 0.3455 - accuracy: 0.8766\n",
      "0.8766000270843506\n"
     ]
    }
   ],
   "source": [
    "test_loss, test_acc = model.evaluate(test_images, test_labels)\n",
    "print(test_acc)"
   ]
  },
  {
   "cell_type": "markdown",
   "metadata": {
    "colab_type": "text",
    "id": "_0LCounn2u_R"
   },
   "source": [
    "#Improving the accuracy using convolutions (hence, Convolutional Neural Networks)\n",
    "\n",
    "\n"
   ]
  },
  {
   "cell_type": "markdown",
   "metadata": {
    "colab_type": "text",
    "id": "UUXYxicZEWv7"
   },
   "source": [
    "We will use the exact same dataset but we will reshape it a bit to make it compatible with the convolution layers we will add to the network:"
   ]
  },
  {
   "cell_type": "code",
   "execution_count": 0,
   "metadata": {
    "colab": {},
    "colab_type": "code",
    "id": "vPn1PBI3EXqD"
   },
   "outputs": [],
   "source": [
    "train_images = train_images.reshape(60000, 28, 28, 1)\n",
    "test_images = test_images.reshape(10000, 28, 28, 1)"
   ]
  },
  {
   "cell_type": "markdown",
   "metadata": {
    "colab_type": "text",
    "id": "Okhm-tfL261s"
   },
   "source": [
    "The code below is the same neural network we built, but this time with convolutional layers added. By the way, notice the first convolutional layer and the input shape. The third dimension is the color dimension (3 if RGB):"
   ]
  },
  {
   "cell_type": "code",
   "execution_count": 28,
   "metadata": {
    "colab": {
     "base_uri": "https://localhost:8080/",
     "height": 394
    },
    "colab_type": "code",
    "executionInfo": {
     "elapsed": 24787,
     "status": "ok",
     "timestamp": 1588217933567,
     "user": {
      "displayName": "Gorkem Turgut OZER",
      "photoUrl": "https://lh3.googleusercontent.com/a-/AOh14Gjp-j5tE4ecnmZuj-jF_J5o_tmjGWvUbyP-I-SrwA=s64",
      "userId": "15029595800829354156"
     },
     "user_tz": 240
    },
    "id": "pYbqbOii2-kQ",
    "outputId": "76d1200e-49b0-40f1-a262-347ef29e4f1d"
   },
   "outputs": [
    {
     "name": "stdout",
     "output_type": "stream",
     "text": [
      "Model: \"sequential_1\"\n",
      "_________________________________________________________________\n",
      "Layer (type)                 Output Shape              Param #   \n",
      "=================================================================\n",
      "conv2d (Conv2D)              (None, 26, 26, 64)        640       \n",
      "_________________________________________________________________\n",
      "max_pooling2d (MaxPooling2D) (None, 13, 13, 64)        0         \n",
      "_________________________________________________________________\n",
      "conv2d_1 (Conv2D)            (None, 11, 11, 64)        36928     \n",
      "_________________________________________________________________\n",
      "max_pooling2d_1 (MaxPooling2 (None, 5, 5, 64)          0         \n",
      "_________________________________________________________________\n",
      "flatten_1 (Flatten)          (None, 1600)              0         \n",
      "_________________________________________________________________\n",
      "dense_2 (Dense)              (None, 128)               204928    \n",
      "_________________________________________________________________\n",
      "dense_3 (Dense)              (None, 10)                1290      \n",
      "=================================================================\n",
      "Total params: 243,786\n",
      "Trainable params: 243,786\n",
      "Non-trainable params: 0\n",
      "_________________________________________________________________\n"
     ]
    }
   ],
   "source": [
    "model = tf.keras.models.Sequential([\n",
    "  tf.keras.layers.Conv2D(64, (3,3), activation='relu', input_shape=(28, 28, 1)),\n",
    "  tf.keras.layers.MaxPooling2D(2, 2),\n",
    "  tf.keras.layers.Conv2D(64, (3,3), activation='relu'),\n",
    "  tf.keras.layers.MaxPooling2D(2,2),\n",
    "  tf.keras.layers.Flatten(),\n",
    "  tf.keras.layers.Dense(128, activation='relu'),\n",
    "  tf.keras.layers.Dense(10, activation='softmax')\n",
    "])\n",
    "\n",
    "model.summary()"
   ]
  },
  {
   "cell_type": "markdown",
   "metadata": {
    "colab_type": "text",
    "id": "4lbdSC7lDNDT"
   },
   "source": [
    "Let's compile and fit the model in the same chunk this time:"
   ]
  },
  {
   "cell_type": "code",
   "execution_count": 29,
   "metadata": {
    "colab": {
     "base_uri": "https://localhost:8080/",
     "height": 206
    },
    "colab_type": "code",
    "executionInfo": {
     "elapsed": 49541,
     "status": "ok",
     "timestamp": 1588217958334,
     "user": {
      "displayName": "Gorkem Turgut OZER",
      "photoUrl": "https://lh3.googleusercontent.com/a-/AOh14Gjp-j5tE4ecnmZuj-jF_J5o_tmjGWvUbyP-I-SrwA=s64",
      "userId": "15029595800829354156"
     },
     "user_tz": 240
    },
    "id": "ikLUPbg5DLCw",
    "outputId": "1beb905c-0d3f-43a2-e122-00755730ea29"
   },
   "outputs": [
    {
     "name": "stdout",
     "output_type": "stream",
     "text": [
      "Epoch 1/5\n",
      "1875/1875 [==============================] - 5s 2ms/step - loss: 0.4501 - accuracy: 0.8348\n",
      "Epoch 2/5\n",
      "1875/1875 [==============================] - 5s 2ms/step - loss: 0.3018 - accuracy: 0.8892\n",
      "Epoch 3/5\n",
      "1875/1875 [==============================] - 5s 2ms/step - loss: 0.2527 - accuracy: 0.9074\n",
      "Epoch 4/5\n",
      "1875/1875 [==============================] - 5s 2ms/step - loss: 0.2227 - accuracy: 0.9175\n",
      "Epoch 5/5\n",
      "1875/1875 [==============================] - 5s 2ms/step - loss: 0.1954 - accuracy: 0.9262\n"
     ]
    },
    {
     "data": {
      "text/plain": [
       "<tensorflow.python.keras.callbacks.History at 0x7f8016837668>"
      ]
     },
     "execution_count": 29,
     "metadata": {
      "tags": []
     },
     "output_type": "execute_result"
    }
   ],
   "source": [
    "model.compile(optimizer='adam', loss='sparse_categorical_crossentropy', metrics=['accuracy'])\n",
    "model.fit(train_images, train_labels, epochs=5)"
   ]
  },
  {
   "cell_type": "markdown",
   "metadata": {
    "colab_type": "text",
    "id": "ErdPoL09FdK7"
   },
   "source": [
    "Let's check the accuracy again, after adding two convolution (and pooling) layers:"
   ]
  },
  {
   "cell_type": "code",
   "execution_count": 30,
   "metadata": {
    "colab": {
     "base_uri": "https://localhost:8080/",
     "height": 51
    },
    "colab_type": "code",
    "executionInfo": {
     "elapsed": 50290,
     "status": "ok",
     "timestamp": 1588217959095,
     "user": {
      "displayName": "Gorkem Turgut OZER",
      "photoUrl": "https://lh3.googleusercontent.com/a-/AOh14Gjp-j5tE4ecnmZuj-jF_J5o_tmjGWvUbyP-I-SrwA=s64",
      "userId": "15029595800829354156"
     },
     "user_tz": 240
    },
    "id": "Ugm6aepdFdqc",
    "outputId": "34d15b4b-9765-42b0-bd17-9d67a76e1fc4"
   },
   "outputs": [
    {
     "name": "stdout",
     "output_type": "stream",
     "text": [
      "313/313 [==============================] - 1s 2ms/step - loss: 0.2722 - accuracy: 0.9057\n",
      "0.9057000279426575\n"
     ]
    }
   ],
   "source": [
    "test_loss, test_acc = model.evaluate(test_images, test_labels)\n",
    "print(test_acc)"
   ]
  },
  {
   "cell_type": "markdown",
   "metadata": {
    "colab_type": "text",
    "id": "omyfQn-CGbSa"
   },
   "source": [
    "By the way, what do you think would happen if we increased the number of epochs?"
   ]
  },
  {
   "cell_type": "markdown",
   "metadata": {
    "colab_type": "text",
    "id": "h1Xm4MZ_3fOY"
   },
   "source": [
    "Let's look at convolutions more closely. We will first check the labels in the test set:"
   ]
  },
  {
   "cell_type": "code",
   "execution_count": 31,
   "metadata": {
    "colab": {
     "base_uri": "https://localhost:8080/",
     "height": 68
    },
    "colab_type": "code",
    "executionInfo": {
     "elapsed": 50248,
     "status": "ok",
     "timestamp": 1588217959099,
     "user": {
      "displayName": "Gorkem Turgut OZER",
      "photoUrl": "https://lh3.googleusercontent.com/a-/AOh14Gjp-j5tE4ecnmZuj-jF_J5o_tmjGWvUbyP-I-SrwA=s64",
      "userId": "15029595800829354156"
     },
     "user_tz": 240
    },
    "id": "e5gQtpw_3fwO",
    "outputId": "cd28c6db-301a-408f-d4d7-2a6073e21c8d"
   },
   "outputs": [
    {
     "name": "stdout",
     "output_type": "stream",
     "text": [
      "[9 2 1 1 6 1 4 6 5 7 4 5 7 3 4 1 2 4 8 0 2 5 7 9 1 4 6 0 9 3 8 8 3 3 8 0 7\n",
      " 5 7 9 6 1 3 7 6 7 2 1 2 2 4 4 5 8 2 2 8 4 8 0 7 7 8 5 1 1 2 3 9 8 7 0 2 6\n",
      " 2 3 1 2 8 4 1 8 5 9 5 0 3 2 0 6 5 3 6 7 1 8 0 1 4 2]\n"
     ]
    }
   ],
   "source": [
    "print(test_labels[:100]) #Pick three images with the same label (1 is pants)"
   ]
  },
  {
   "cell_type": "code",
   "execution_count": 32,
   "metadata": {
    "colab": {
     "base_uri": "https://localhost:8080/",
     "height": 268
    },
    "colab_type": "code",
    "executionInfo": {
     "elapsed": 51772,
     "status": "ok",
     "timestamp": 1588217960652,
     "user": {
      "displayName": "Gorkem Turgut OZER",
      "photoUrl": "https://lh3.googleusercontent.com/a-/AOh14Gjp-j5tE4ecnmZuj-jF_J5o_tmjGWvUbyP-I-SrwA=s64",
      "userId": "15029595800829354156"
     },
     "user_tz": 240
    },
    "id": "y-nT_HDH3hqc",
    "outputId": "6046942f-4bbe-494a-ace8-8eeb40aaf895"
   },
   "outputs": [
    {
     "data": {
      "image/png": "[encoded data removed]",
      "text/plain": [
       "<Figure size 432x288 with 12 Axes>"
      ]
     },
     "metadata": {
      "needs_background": "light",
      "tags": []
     },
     "output_type": "display_data"
    }
   ],
   "source": [
    "f, axarr = plt.subplots(3,4)\n",
    "FIRST_IMAGE=2\n",
    "SECOND_IMAGE=3\n",
    "THIRD_IMAGE=5\n",
    "CONVOLUTION_NUMBER = 1\n",
    "from tensorflow.keras import models\n",
    "layer_outputs = [layer.output for layer in model.layers]\n",
    "activation_model = tf.keras.models.Model(inputs = model.input, outputs = layer_outputs)\n",
    "for x in range(0,4):\n",
    "  f1 = activation_model.predict(test_images[FIRST_IMAGE].reshape(1, 28, 28, 1))[x]\n",
    "  axarr[0,x].imshow(f1[0, : , :, CONVOLUTION_NUMBER], cmap='inferno')\n",
    "  axarr[0,x].grid(False)\n",
    "  f2 = activation_model.predict(test_images[SECOND_IMAGE].reshape(1, 28, 28, 1))[x]\n",
    "  axarr[1,x].imshow(f2[0, : , :, CONVOLUTION_NUMBER], cmap='inferno')\n",
    "  axarr[1,x].grid(False)\n",
    "  f3 = activation_model.predict(test_images[THIRD_IMAGE].reshape(1, 28, 28, 1))[x]\n",
    "  axarr[2,x].imshow(f3[0, : , :, CONVOLUTION_NUMBER], cmap='inferno')\n",
    "  axarr[2,x].grid(False)"
   ]
  },
  {
   "cell_type": "markdown",
   "metadata": {
    "colab_type": "text",
    "id": "wa1w5SSMpISR"
   },
   "source": [
    "#What to do now (for a bonus)?\n",
    "\n",
    "If you want, test different network structures, train and evaluate the model, and report the **Test accuracy** each time. Test accuracy is reported in the **\"Evaluate the model\"** step. Experiment with (1) the number and type of network layers and (2) the number of neurons in each layer. Create and test at least five combinations, and report your results in a table.\n",
    "\n",
    "For example, if you make the following change in **\"Setup the layers\"** step:\n",
    "\n",
    "From...\n",
    "```\n",
    "model = keras.Sequential([\n",
    "    keras.layers.Flatten(input_shape=(28, 28)),\n",
    "    keras.layers.Dense(128, activation=tf.nn.relu),\n",
    "    keras.layers.Dense(10, activation=tf.nn.softmax)\n",
    "])\n",
    "```\n",
    "\n",
    "To...\n",
    "```\n",
    "model = keras.Sequential([\n",
    "    keras.layers.Flatten(input_shape=(28, 28)),\n",
    "    keras.layers.Dense(128, activation=tf.nn.relu),\n",
    "    keras.layers.Dense(64, activation=tf.nn.sigmoid),\n",
    "    keras.layers.Dense(10, activation=tf.nn.softmax)\n",
    "])\n",
    "```\n",
    "\n",
    "You would have added one more Sigmoid layer to the model with 64 neurons, just after the ReLU layer.\n"
   ]
  },
  {
   "cell_type": "markdown",
   "metadata": {
    "colab_type": "text",
    "id": "N8ninG_VmvbN"
   },
   "source": [
    "---\n",
    "\n",
    "# Copyright 2018 The TensorFlow Authors.\n",
    "# Adapted in 2020 by Gorkem Turgut OZER for educational purposes."
   ]
  },
  {
   "cell_type": "code",
   "execution_count": 0,
   "metadata": {
    "cellView": "form",
    "colab": {},
    "colab_type": "code",
    "id": "XzEU3kdsl41k"
   },
   "outputs": [],
   "source": [
    "#@title Licensed under the Apache License, Version 2.0 (the \"License\");\n",
    "# you may not use this file except in compliance with the License.\n",
    "# You may obtain a copy of the License at\n",
    "#\n",
    "# https://www.apache.org/licenses/LICENSE-2.0\n",
    "#\n",
    "# Unless required by applicable law or agreed to in writing, software\n",
    "# distributed under the License is distributed on an \"AS IS\" BASIS,\n",
    "# WITHOUT WARRANTIES OR CONDITIONS OF ANY KIND, either express or implied.\n",
    "# See the License for the specific language governing permissions and\n",
    "# limitations under the License."
   ]
  },
  {
   "cell_type": "code",
   "execution_count": 0,
   "metadata": {
    "cellView": "form",
    "colab": {},
    "colab_type": "code",
    "id": "vmQidcwJmAX2"
   },
   "outputs": [],
   "source": [
    "#@title MIT License\n",
    "#\n",
    "# Copyright (c) 2017 François Chollet\n",
    "#\n",
    "# Permission is hereby granted, free of charge, to any person obtaining a\n",
    "# copy of this software and associated documentation files (the \"Software\"),\n",
    "# to deal in the Software without restriction, including without limitation\n",
    "# the rights to use, copy, modify, merge, publish, distribute, sublicense,\n",
    "# and/or sell copies of the Software, and to permit persons to whom the\n",
    "# Software is furnished to do so, subject to the following conditions:\n",
    "#\n",
    "# The above copyright notice and this permission notice shall be included in\n",
    "# all copies or substantial portions of the Software.\n",
    "#\n",
    "# THE SOFTWARE IS PROVIDED \"AS IS\", WITHOUT WARRANTY OF ANY KIND, EXPRESS OR\n",
    "# IMPLIED, INCLUDING BUT NOT LIMITED TO THE WARRANTIES OF MERCHANTABILITY,\n",
    "# FITNESS FOR A PARTICULAR PURPOSE AND NONINFRINGEMENT. IN NO EVENT SHALL\n",
    "# THE AUTHORS OR COPYRIGHT HOLDERS BE LIABLE FOR ANY CLAIM, DAMAGES OR OTHER\n",
    "# LIABILITY, WHETHER IN AN ACTION OF CONTRACT, TORT OR OTHERWISE, ARISING\n",
    "# FROM, OUT OF OR IN CONNECTION WITH THE SOFTWARE OR THE USE OR OTHER\n",
    "# DEALINGS IN THE SOFTWARE."
   ]
  }
 ],
 "metadata": {
  "accelerator": "GPU",
  "colab": {
   "collapsed_sections": [],
   "name": "imageClassificationUsingCNN_MSIS_Simplified_v1.ipynb",
   "provenance": []
  },
  "kernelspec": {
   "display_name": "Python 3",
   "language": "python",
   "name": "python3"
  },
  "language_info": {
   "codemirror_mode": {
    "name": "ipython",
    "version": 3
   },
   "file_extension": ".py",
   "mimetype": "text/x-python",
   "name": "python",
   "nbconvert_exporter": "python",
   "pygments_lexer": "ipython3",
   "version": "3.7.3"
  }
 },
 "nbformat": 4,
 "nbformat_minor": 1
}
